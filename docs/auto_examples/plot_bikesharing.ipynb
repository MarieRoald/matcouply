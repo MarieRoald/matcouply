{
  "cells": [
    {
      "cell_type": "code",
      "execution_count": null,
      "metadata": {
        "collapsed": false
      },
      "outputs": [],
      "source": [
        "%matplotlib inline"
      ]
    },
    {
      "cell_type": "markdown",
      "metadata": {},
      "source": [
        "\n\n# Detecting behavioural patterns in bike sharing data\n"
      ]
    },
    {
      "cell_type": "code",
      "execution_count": null,
      "metadata": {
        "collapsed": false
      },
      "outputs": [],
      "source": [
        "import matplotlib.pyplot as plt\nimport numpy as np\nimport pandas as pd\nimport plotly.express as px\nfrom component_vis.factor_tools import factor_match_score\nfrom wordcloud import WordCloud\n\nimport matcouply.decomposition as decomposition\nfrom matcouply.data import get_bike_data"
      ]
    },
    {
      "cell_type": "markdown",
      "metadata": {},
      "source": [
        "## Load the data\nThis dataset contains three matrices with bike sharing data from three cities in Norway:\nOslo, Bergen and Trondheim. Each row of these data matrices represent a station, and each column\nrepresent an hour in 2021. The matrix element $x^{(\\text{Oslo})}_{jk}$ is the number of trips\nthat ended in station $j$ in Oslo during hour $k$. More information about this dataset\nis available in the documentation for the ``get_bike_data``-function.\n\n"
      ]
    },
    {
      "cell_type": "code",
      "execution_count": null,
      "metadata": {
        "collapsed": false
      },
      "outputs": [],
      "source": [
        "bike_data = get_bike_data()\nmatrices = [bike_data[\"oslo\"].values, bike_data[\"bergen\"].values, bike_data[\"trondheim\"].values]"
      ]
    },
    {
      "cell_type": "markdown",
      "metadata": {},
      "source": [
        "## Fit non-negative PARAFAC2 models\nLet us fit a non-negative PARAFAC2 model to these matrices to extract underlying patterns.\nWe fit five models using different random initializations to avoid bad local minima and\nto ensure that the model is unique.\n\n"
      ]
    },
    {
      "cell_type": "code",
      "execution_count": null,
      "metadata": {
        "collapsed": false
      },
      "outputs": [],
      "source": [
        "all_models = []\nall_errors = []\nlowest_error = float(\"inf\")\nfor init in range(5):\n    print(\"-\" * 50)\n    print(\"Init:\", init)\n    print(\"-\" * 50)\n    cmf, diagnostics = decomposition.parafac2_aoadmm(\n        matrices,\n        rank=4,\n        non_negative=True,\n        n_iter_max=1000,\n        tol=1e-8,\n        verbose=100,\n        return_errors=True,\n        random_state=init,\n    )\n\n    all_models.append(cmf)\n    all_errors.append(diagnostics)\n\n    if diagnostics.regularized_loss[-1] < lowest_error:\n        selected_init = init\n        lowest_error = diagnostics.regularized_loss[-1]"
      ]
    },
    {
      "cell_type": "markdown",
      "metadata": {},
      "source": [
        "## Check uniqueness of the NN-PARAFAC2 models\nTo check that the model is unique, we check that the initialization runs that\nreach the same loss also find the same components.\n\n"
      ]
    },
    {
      "cell_type": "code",
      "execution_count": null,
      "metadata": {
        "collapsed": false
      },
      "outputs": [],
      "source": [
        "def get_stacked_CP_tensor(cmf):\n    weights, factors = cmf\n    A, B_is, C = factors\n\n    stacked_cp_tensor = (weights, (A, np.concatenate(B_is, axis=0), C))\n    return stacked_cp_tensor\n\n\nprint(\"Similarity with selected init\")\nfor init, model in enumerate(all_models):\n    if init == selected_init:\n        print(f\"Init {init} is the selected init\")\n        continue\n\n    fms = factor_match_score(\n        get_stacked_CP_tensor(model), get_stacked_CP_tensor(all_models[selected_init]), consider_weights=False\n    )\n    print(f\"Similarity with selected init: {fms:}\")\n\n\nweights, (A, B_is, C) = all_models[selected_init]"
      ]
    },
    {
      "cell_type": "markdown",
      "metadata": {},
      "source": [
        "## Convert factor matrices to DataFrame\nTo make visualization easier, we convert the factor matrices to dataframes with interpretable indices.\nWe also sort the components by weight and clip the factors at 0 since the AO-ADMM algorithm may allow\nnegative values that are very close to 0.\n\n"
      ]
    },
    {
      "cell_type": "code",
      "execution_count": null,
      "metadata": {
        "collapsed": false
      },
      "outputs": [],
      "source": [
        "if weights is None:\n    weights = 1\n\nnorms = np.linalg.norm(A, axis=0) * np.linalg.norm(B_is[0], axis=0) * np.linalg.norm(C, axis=0)\norder = np.argsort(-weights * norms)\n\nA = pd.DataFrame(np.maximum(0, A[:, order]), index=[\"Oslo\", \"Bergen\", \"Trondheim\"])\nB_is = [\n    pd.DataFrame(np.maximum(0, B_is[0][:, order]), index=bike_data[\"oslo\"].index),\n    pd.DataFrame(np.maximum(0, B_is[1][:, order]), index=bike_data[\"bergen\"].index),\n    pd.DataFrame(np.maximum(0, B_is[2][:, order]), index=bike_data[\"trondheim\"].index),\n]\nC = pd.DataFrame(np.maximum(0, C[:, order]), index=bike_data[\"oslo\"].columns)"
      ]
    },
    {
      "cell_type": "markdown",
      "metadata": {},
      "source": [
        "## Plot the time-components\n\n"
      ]
    },
    {
      "cell_type": "code",
      "execution_count": null,
      "metadata": {
        "collapsed": false
      },
      "outputs": [],
      "source": [
        "C_melted = C.melt(value_name=\"Value\", var_name=\"Component\", ignore_index=False).reset_index()\nfig = px.line(\n    C_melted,\n    x=\"Time of arrival\",\n    y=\"Value\",\n    facet_row=\"Component\",\n    hover_data={\"Time of arrival\": \"|%a, %b %e, %H:%M\"},\n    color=\"Component\",\n)\nfig"
      ]
    },
    {
      "cell_type": "markdown",
      "metadata": {},
      "source": [
        "By briefly looking at the time-mode components, we immediately see that the fourth\ncomponent displays behaviour during summer, when people in Norway typically have\ntheir vacation. If we zoom in a bit, we can see interesting behaviour for the first\nthree components too. The first three components are the most active during week-days.\nThe first component likely represents travel home from work, as it is active in the\nafternoon and the second component likely represents travel too work, as it is active\nin the morning. The third component however, is active the whole day, but mostly\nduring the afternoon and the morning. Interestingly, the 'vacation' component\nis most active during weekends instead of week days.\n\n"
      ]
    },
    {
      "cell_type": "markdown",
      "metadata": {},
      "source": [
        "## Plot the strength of the components in each city\n\n"
      ]
    },
    {
      "cell_type": "code",
      "execution_count": null,
      "metadata": {
        "collapsed": false
      },
      "outputs": [],
      "source": [
        "A_melted = A.melt(value_name=\"Value\", var_name=\"Component\", ignore_index=False).reset_index()\nA_melted[\"Component\"] = A_melted[\"Component\"].astype(str)  # Force discrete colormap\nfig = px.bar(A_melted, x=\"index\", y=\"Value\", facet_row=\"Component\", color=\"Component\")\nfig"
      ]
    },
    {
      "cell_type": "markdown",
      "metadata": {},
      "source": [
        "We see that most of the components are most prominant in Oslo (which is the\nlargest city too), except for the third component, which is mainly prominent\nin Bergen instead.\n\n"
      ]
    },
    {
      "cell_type": "markdown",
      "metadata": {},
      "source": [
        "## Plot the Oslo-station components as a density-map\n\nWe can visualize the station components as a density-map by first joining the station mode\nfactor matrices for each city with a dataframe constainting the station coordinates, and\nthen using the ``density_mapbox``-plot from PlotLy Express.\n\n"
      ]
    },
    {
      "cell_type": "code",
      "execution_count": null,
      "metadata": {
        "collapsed": false
      },
      "outputs": [],
      "source": [
        "B_0_melted = (\n    B_is[0]\n    .join(bike_data[\"station_metadata\"])\n    .melt(value_name=\"Value\", var_name=\"Component\", ignore_index=False, id_vars=bike_data[\"station_metadata\"].columns)\n    .reset_index()\n)\n\nfig = px.density_mapbox(\n    B_0_melted,\n    lat=\"Arrival station latitude\",\n    lon=\"Arrival station longitude\",\n    z=\"Value\",\n    zoom=11,\n    opacity=0.5,\n    animation_frame=\"Component\",\n    animation_group=\"Arrival station ID\",\n    hover_data=[\"Arrival station name\"],\n    title=\"Oslo\",\n)\nfig.update_layout(mapbox_style=\"carto-positron\",)\nfig"
      ]
    },
    {
      "cell_type": "markdown",
      "metadata": {},
      "source": [
        "By exploring the map, you can see that the first component (active at the end of workdays) is active in residential\nareas in parts of the city that are fairly close to the centre. This pattern is expected as people living in these\nareas are the most likely to have a bike-sharing station close and a short enough commute to bike home from work.\nFurthermore, the second component (active at the beginning of workdays) is active in more central, high-density\nareas where offices and universities are located. The third components activation (active during the whole day),\nis spread throughout the city. Finally, the fourth component (active during weekends in the summer) has activation for\nstations close to popular swimming areas and areas with a lot of restaurants with outdoor seating.\n\n"
      ]
    },
    {
      "cell_type": "markdown",
      "metadata": {},
      "source": [
        "## Plot the Bergen-station components as a density-map\n\n"
      ]
    },
    {
      "cell_type": "code",
      "execution_count": null,
      "metadata": {
        "collapsed": false
      },
      "outputs": [],
      "source": [
        "B_1_melted = (\n    B_is[1]\n    .join(bike_data[\"station_metadata\"])\n    .melt(value_name=\"Value\", var_name=\"Component\", ignore_index=False, id_vars=bike_data[\"station_metadata\"].columns)\n    .reset_index()\n)\n\nfig = px.density_mapbox(\n    B_1_melted,\n    lat=\"Arrival station latitude\",\n    lon=\"Arrival station longitude\",\n    z=\"Value\",\n    zoom=11,\n    opacity=0.5,\n    animation_frame=\"Component\",\n    animation_group=\"Arrival station ID\",\n    hover_data=[\"Arrival station name\"],\n    title=\"Bergen\",\n)\nfig.update_layout(mapbox_style=\"carto-positron\",)\nfig"
      ]
    },
    {
      "cell_type": "markdown",
      "metadata": {},
      "source": [
        "Again, we see that the first component (active at the end of workdays) is active in residential areas\nnear the city centre. The second component (active at the beginning of workdays) is also clearly\nactive near offices and the universities. The third components activation (active during the whole day),\nis spread throughout the city and residental areas. Finally, the fourth component (active during\nweekends in the summer) has activation for stations close to popular swimming areas, parks and restaurants\nwith outdoor seating.\n\n"
      ]
    },
    {
      "cell_type": "markdown",
      "metadata": {},
      "source": [
        "## Plot the Trondheim-station components as a density-map\n\n"
      ]
    },
    {
      "cell_type": "code",
      "execution_count": null,
      "metadata": {
        "collapsed": false
      },
      "outputs": [],
      "source": [
        "B_2_melted = (\n    B_is[2]\n    .join(bike_data[\"station_metadata\"])\n    .melt(value_name=\"Value\", var_name=\"Component\", ignore_index=False, id_vars=bike_data[\"station_metadata\"].columns)\n    .reset_index()\n)\n\nfig = px.density_mapbox(\n    B_2_melted,\n    lat=\"Arrival station latitude\",\n    lon=\"Arrival station longitude\",\n    z=\"Value\",\n    zoom=11,\n    opacity=0.5,\n    animation_frame=\"Component\",\n    animation_group=\"Arrival station ID\",\n    hover_data=[\"Arrival station name\"],\n    title=\"Trondheim\",\n)\nfig.update_layout(mapbox_style=\"carto-positron\",)\nfig"
      ]
    },
    {
      "cell_type": "markdown",
      "metadata": {},
      "source": [
        "Here, we see the same story as with Oslo and Bergen. Component one is active near\nresidental areas, component two near offices and universities, component three is\nactive throughout the city and component four is active in areas that are popular\nduring the summer.\n\n"
      ]
    },
    {
      "cell_type": "markdown",
      "metadata": {},
      "source": [
        "## Plot the station components as word-clouds\n\n"
      ]
    },
    {
      "cell_type": "code",
      "execution_count": null,
      "metadata": {
        "collapsed": false
      },
      "outputs": [],
      "source": [
        "n_components = B_is[0].shape[1]\nB_is_with_meta = [B_i.join(bike_data[\"station_metadata\"]) for B_i in B_is]\n\nfig, axes = plt.subplots(n_components, 3, figsize=(10, 2 * n_components), dpi=200, squeeze=False)\n\nfor r in range(n_components):\n    for city_id in range(3):\n        wc = WordCloud(background_color=\"black\", max_words=1000, colormap=\"Pastel1\")\n        frequencies = B_is_with_meta[city_id].set_index(\"Arrival station name\")[r].to_dict()\n        wc.generate_from_frequencies(frequencies)\n        axes[r, city_id].imshow(wc, interpolation=\"bilinear\")\n        axes[r, city_id].set_xticks([])\n        axes[r, city_id].set_yticks([])\n\naxes[0, 0].set_title(\"Oslo\")\naxes[0, 1].set_title(\"Bergen\")\naxes[0, 2].set_title(\"Trondheim\")\nfor i in range(4):\n    axes[i, 0].set_ylabel(f\"Component {i}\")\nplt.show()"
      ]
    },
    {
      "cell_type": "markdown",
      "metadata": {},
      "source": [
        "These wordcloud plots confirm the patterns you see on the maps.\nStations such as \"Bankplassen\", \"Nyg\u00e5rdsporten\" and \"Vollabekken\" are close to high density areas with a lot of\nworkplaces for Oslo, Bergen and Trondheim, respectivly. While stations like \"R\u00e5dhusbrygge 4\", \"Festplassen\"\nand \"Lade idrettsannlegg vest\" are close to popular summer activities.\n\n"
      ]
    }
  ],
  "metadata": {
    "kernelspec": {
      "display_name": "Python 3",
      "language": "python",
      "name": "python3"
    },
    "language_info": {
      "codemirror_mode": {
        "name": "ipython",
        "version": 3
      },
      "file_extension": ".py",
      "mimetype": "text/x-python",
      "name": "python",
      "nbconvert_exporter": "python",
      "pygments_lexer": "ipython3",
      "version": "3.8.8"
    }
  },
  "nbformat": 4,
  "nbformat_minor": 0
}