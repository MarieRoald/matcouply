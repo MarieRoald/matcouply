{
  "cells": [
    {
      "cell_type": "code",
      "execution_count": null,
      "metadata": {
        "collapsed": false
      },
      "outputs": [],
      "source": [
        "%matplotlib inline"
      ]
    },
    {
      "cell_type": "markdown",
      "metadata": {},
      "source": [
        "\n# Simple example with simulated non-negative components.\n"
      ]
    },
    {
      "cell_type": "code",
      "execution_count": null,
      "metadata": {
        "collapsed": false
      },
      "outputs": [],
      "source": [
        "import matplotlib.pyplot as plt\nimport numpy as np\nimport tensorly as tl\nfrom component_vis.factor_tools import factor_match_score\n\nimport matcouply.decomposition as decomposition\nfrom matcouply.coupled_matrices import CoupledMatrixFactorization"
      ]
    },
    {
      "cell_type": "markdown",
      "metadata": {},
      "source": [
        "## Setup\n\n"
      ]
    },
    {
      "cell_type": "code",
      "execution_count": null,
      "metadata": {
        "collapsed": false
      },
      "outputs": [],
      "source": [
        "I, J, K = 10, 15, 20\nrank = 3\nnoise_level = 0.2\nrng = np.random.default_rng(0)\n\n\ndef truncated_normal(size):\n    x = rng.standard_normal(size=size)\n    x[x < 0] = 0\n    return tl.tensor(x)\n\n\ndef normalize(x):\n    return x / tl.sqrt(tl.sum(x ** 2, axis=0, keepdims=True))"
      ]
    },
    {
      "cell_type": "markdown",
      "metadata": {},
      "source": [
        "## Generate simulated data that follows the PARAFAC2 constraint\n\n"
      ]
    },
    {
      "cell_type": "code",
      "execution_count": null,
      "metadata": {
        "collapsed": false
      },
      "outputs": [],
      "source": [
        "A = rng.uniform(size=(I, rank)) + 0.1  # Add 0.1 to ensure that there is signal for all components for all slices\nA = tl.tensor(A)\n\nB_blueprint = truncated_normal(size=(J, rank))\nB_is = [np.roll(B_blueprint, i, axis=0) for i in range(I)]\nB_is = [tl.tensor(B_i) for B_i in B_is]\n\nC = truncated_normal(size=(K, rank))\nC = tl.tensor(C)"
      ]
    },
    {
      "cell_type": "markdown",
      "metadata": {},
      "source": [
        "## Plot the simulated components\n\n"
      ]
    },
    {
      "cell_type": "code",
      "execution_count": null,
      "metadata": {
        "collapsed": false
      },
      "outputs": [],
      "source": [
        "fig, axes = plt.subplots(2, 3, tight_layout=True)\n\naxes[0, 0].plot(normalize(A))\naxes[0, 0].set_title(\"$\\\\mathbf{A}$\")\n\naxes[0, 1].plot(normalize(C))\naxes[0, 1].set_title(\"$\\\\mathbf{C}$\")\n\naxes[0, 2].axis(\"off\")\n\naxes[1, 0].plot(normalize(B_is[0]))\naxes[1, 0].set_title(\"$\\\\mathbf{B}_0$\")\n\naxes[1, 1].plot(normalize(B_is[I // 2]))\naxes[1, 1].set_title(f\"$\\\\mathbf{{B}}_{{{I//2}}}$\")\n\naxes[1, 2].plot(normalize(B_is[-1]))\naxes[1, 2].set_title(f\"$\\\\mathbf{{B}}_{{{I-1}}}$\")\n\nplt.show()"
      ]
    },
    {
      "cell_type": "markdown",
      "metadata": {},
      "source": [
        "## Create the coupled matrix factorization, simulated data matrices and add noise\n\n"
      ]
    },
    {
      "cell_type": "code",
      "execution_count": null,
      "metadata": {
        "collapsed": false
      },
      "outputs": [],
      "source": [
        "cmf = CoupledMatrixFactorization((None, (A, B_is, C)))\nmatrices = cmf.to_matrices()\nnoise = [tl.tensor(rng.uniform(size=M.shape)) for M in matrices]\nnoisy_matrices = [M + N * noise_level * tl.norm(M) / tl.norm(N) for M, N in zip(matrices, noise)]"
      ]
    },
    {
      "cell_type": "markdown",
      "metadata": {},
      "source": [
        "## Fit a non-negative PARAFAC2 model to the noisy data\n\n"
      ]
    },
    {
      "cell_type": "code",
      "execution_count": null,
      "metadata": {
        "collapsed": false
      },
      "outputs": [],
      "source": [
        "lowest_error = float(\"inf\")\nfor init in range(5):\n    print(\"Init:\", init)\n    out = decomposition.parafac2_aoadmm(\n        noisy_matrices, rank, n_iter_max=1000, non_negative=True, return_errors=True, random_state=init\n    )\n    if out[1].regularized_loss[-1] < lowest_error and out[1].satisfied_stopping_condition:\n        out_cmf, diagnostics = out\n        lowest_error = diagnostics.rec_errors[-1]\n\nprint(\"=\" * 50)\nprint(f\"Final reconstruction error: {lowest_error:.3f}\")\nprint(f\"Feasibility gap for A: {diagnostics.feasibility_gaps[-1][0]}\")\nprint(f\"Feasibility gap for B_is: {diagnostics.feasibility_gaps[-1][1]}\")\nprint(f\"Feasibility gap for C: {diagnostics.feasibility_gaps[-1][2]}\")"
      ]
    },
    {
      "cell_type": "markdown",
      "metadata": {},
      "source": [
        "## Compute factor match score to measure the accuracy of the recovered components\n\n"
      ]
    },
    {
      "cell_type": "code",
      "execution_count": null,
      "metadata": {
        "collapsed": false
      },
      "outputs": [],
      "source": [
        "def get_stacked_CP_tensor(cmf):\n    weights, factors = cmf\n    A, B_is, C = factors\n\n    stacked_cp_tensor = (weights, (A, np.concatenate(B_is, axis=0), C))\n    return stacked_cp_tensor\n\n\nfms, permutation = factor_match_score(\n    get_stacked_CP_tensor(cmf), get_stacked_CP_tensor(out_cmf), consider_weights=False, return_permutation=True\n)\nprint(f\"Factor match score: {fms}\")"
      ]
    },
    {
      "cell_type": "markdown",
      "metadata": {},
      "source": [
        "## Plot the loss logg\n\n"
      ]
    },
    {
      "cell_type": "code",
      "execution_count": null,
      "metadata": {
        "collapsed": false
      },
      "outputs": [],
      "source": [
        "fig, ax = plt.subplots(tight_layout=True)\nax.semilogy(diagnostics.rec_errors)\nplt.xlabel(\"Iteration\")\nplt.ylabel(\"Relative normed error (2-norm)\")\nplt.show()"
      ]
    },
    {
      "cell_type": "markdown",
      "metadata": {},
      "source": [
        "## Plot the recovered components\n\n"
      ]
    },
    {
      "cell_type": "code",
      "execution_count": null,
      "metadata": {
        "collapsed": false
      },
      "outputs": [],
      "source": [
        "out_weights, (out_A, out_B_is, out_C) = out_cmf\nout_A = out_A[:, permutation]\nout_B_is = [out_B_i[:, permutation] for out_B_i in out_B_is]\nout_C = out_C[:, permutation]\n\nfig, axes = plt.subplots(2, 3, tight_layout=True)\n\naxes[0, 0].plot(normalize(out_A))\naxes[0, 0].set_title(\"$\\\\mathbf{A}$\")\n\naxes[0, 1].plot(normalize(out_C))\naxes[0, 1].set_title(\"$\\\\mathbf{C}$\")\n\naxes[0, 2].axis(\"off\")\n\naxes[1, 0].plot(normalize(out_B_is[0]))\naxes[1, 0].set_title(\"$\\\\mathbf{B}_0$\")\n\naxes[1, 1].plot(normalize(out_B_is[I // 2]))\naxes[1, 1].set_title(f\"$\\\\mathbf{{B}}_{{{I//2}}}$\")\n\naxes[1, 2].plot(normalize(out_B_is[-1]))\naxes[1, 2].set_title(f\"$\\\\mathbf{{B}}_{{{I-1}}}$\")\n\nplt.show()"
      ]
    }
  ],
  "metadata": {
    "kernelspec": {
      "display_name": "Python 3",
      "language": "python",
      "name": "python3"
    },
    "language_info": {
      "codemirror_mode": {
        "name": "ipython",
        "version": 3
      },
      "file_extension": ".py",
      "mimetype": "text/x-python",
      "name": "python",
      "nbconvert_exporter": "python",
      "pygments_lexer": "ipython3",
      "version": "3.8.8"
    }
  },
  "nbformat": 4,
  "nbformat_minor": 0
}